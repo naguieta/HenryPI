{
 "cells": [
  {
   "cell_type": "code",
   "execution_count": 106,
   "id": "35bdf577-147c-42b8-a811-654d88aec6ab",
   "metadata": {},
   "outputs": [],
   "source": [
    "import pandas as pd\n",
    "import numpy as np"
   ]
  },
  {
   "cell_type": "code",
   "execution_count": 107,
   "id": "93f28d70-f0e8-45b3-9e5e-a9ed57f72b70",
   "metadata": {},
   "outputs": [],
   "source": [
    "amazon = pd.read_csv(r\"Datasets/amazon_prime_titles-score.csv\")\n",
    "disney = pd.read_csv(r\"Datasets/disney_plus_titles-score.csv\")\n",
    "hulu = pd.read_csv(r\"Datasets/hulu_titles-score (2).csv\")\n",
    "netflix = pd.read_csv(r\"Datasets/netflix_titles-score.csv\")"
   ]
  },
  {
   "cell_type": "markdown",
   "id": "92027db4-9eb9-4798-905a-c11d53a1b7ee",
   "metadata": {},
   "source": [
    "## Generar campo **`id`**: Cada id se compondrá de la primera letra del nombre de la plataforma, seguido del show_id ya presente en los datasets (ejemplo para títulos de Amazon = **`as123`**)"
   ]
  },
  {
   "cell_type": "code",
   "execution_count": 108,
   "id": "a6223c26-5fed-4464-bfda-de165120ad22",
   "metadata": {},
   "outputs": [],
   "source": [
    "# amazon\n",
    "amazon['show_id'] = amazon['show_id'].astype('str')\n",
    "amazon['type'] = amazon['type'].astype('category')\n",
    "amazon['title'] = amazon['title'].astype('str')\n",
    "amazon['director'] = amazon['director'].astype('str')\n",
    "amazon['cast'] = amazon['cast'].astype('str')\n",
    "amazon['country'] = amazon['country'].astype('str')\n",
    "amazon['date_added'] = pd.to_datetime(amazon['date_added'], infer_datetime_format=True, errors='coerce')\n",
    "amazon['release_year'] = amazon['release_year'].astype('int16')\n",
    "amazon['rating'] = amazon['rating'].astype('str')\n",
    "amazon['listed_in'] = amazon['listed_in'].astype('str')\n",
    "amazon['description'] = amazon['description'].astype('str')\n",
    "amazon['score'] = amazon['score'].astype('int8')\n"
   ]
  },
  {
   "cell_type": "code",
   "execution_count": 109,
   "id": "91c94c41-cd7b-4a30-82c4-d34ab77edbe7",
   "metadata": {},
   "outputs": [],
   "source": [
    "amazon['id'] = 'a' + amazon['show_id']"
   ]
  },
  {
   "cell_type": "code",
   "execution_count": 110,
   "id": "af783532-927c-488a-9ac1-c5e0d3934a20",
   "metadata": {},
   "outputs": [],
   "source": [
    "amazon['id'] = amazon['id'].astype('str')"
   ]
  },
  {
   "cell_type": "code",
   "execution_count": 111,
   "id": "38e9b2a5-5ba0-427b-bce5-618a9945111e",
   "metadata": {},
   "outputs": [],
   "source": [
    "# disney\n",
    "disney['show_id'] = disney['show_id'].astype('str')\n",
    "disney['type'] = disney['type'].astype('category')\n",
    "disney['title'] = disney['title'].astype('str')\n",
    "disney['director'] = disney['director'].astype('str')\n",
    "disney['cast'] = disney['cast'].astype('str')\n",
    "disney['country'] = disney['country'].astype('str')\n",
    "disney['date_added'] = pd.to_datetime(disney['date_added'], infer_datetime_format=True, errors='coerce')\n",
    "disney['release_year'] = disney['release_year'].astype('int16')\n",
    "disney['rating'] = disney['rating'].astype('str')\n",
    "disney['listed_in'] = disney['listed_in'].astype('str')\n",
    "disney['description'] = disney['description'].astype('str')\n",
    "disney['score'] = disney['score'].astype('int8')"
   ]
  },
  {
   "cell_type": "code",
   "execution_count": 112,
   "id": "f41aeb32-94c1-49f3-b952-7710258c4164",
   "metadata": {},
   "outputs": [],
   "source": [
    "disney['id'] = 'd' + disney['show_id']"
   ]
  },
  {
   "cell_type": "code",
   "execution_count": 113,
   "id": "c7e140d5-12bf-48de-9fa9-955ba94e305d",
   "metadata": {},
   "outputs": [],
   "source": [
    "disney['id'] = disney['id'].astype('str')"
   ]
  },
  {
   "cell_type": "code",
   "execution_count": 114,
   "id": "819dd11b-65b7-42da-bc07-16626fe7d176",
   "metadata": {},
   "outputs": [],
   "source": [
    "# hulu\n",
    "hulu['show_id'] = hulu['show_id'].astype('str')\n",
    "hulu['type'] = hulu['type'].astype('category')\n",
    "hulu['title'] = hulu['title'].astype('str')\n",
    "hulu['director'] = hulu['director'].astype('str')\n",
    "hulu['cast'] = hulu['cast'].astype('str')\n",
    "hulu['country'] = hulu['country'].astype('str')\n",
    "hulu['date_added'] = pd.to_datetime(hulu['date_added'], infer_datetime_format=True, errors='coerce')\n",
    "hulu['release_year'] = hulu['release_year'].astype('int16')\n",
    "hulu['rating'] = hulu['rating'].astype('str')\n",
    "hulu['listed_in'] = hulu['listed_in'].astype('str')\n",
    "hulu['description'] = hulu['description'].astype('str')\n",
    "hulu['score'] = hulu['score'].astype('int8')"
   ]
  },
  {
   "cell_type": "code",
   "execution_count": 115,
   "id": "664c32df-fa95-4c91-a1d0-2d74b22e7cdb",
   "metadata": {},
   "outputs": [],
   "source": [
    "hulu['id'] = 'h' + hulu['show_id']"
   ]
  },
  {
   "cell_type": "code",
   "execution_count": 116,
   "id": "4b8d7ede-c7fa-4daa-831b-df458a9c2cd9",
   "metadata": {},
   "outputs": [],
   "source": [
    "hulu['id'] = hulu['id'].astype('str')"
   ]
  },
  {
   "cell_type": "code",
   "execution_count": 117,
   "id": "fa1f5531-df08-4ccc-8a3b-8341748d9818",
   "metadata": {},
   "outputs": [],
   "source": [
    "# netflix\n",
    "netflix['show_id'] = netflix['show_id'].astype('str')\n",
    "netflix['type'] = netflix['type'].astype('category')\n",
    "netflix['title'] = netflix['title'].astype('str')\n",
    "netflix['director'] = netflix['director'].astype('str')\n",
    "netflix['cast'] = netflix['cast'].astype('str')\n",
    "netflix['country'] = netflix['country'].astype('str')\n",
    "netflix['date_added'] = pd.to_datetime(netflix['date_added'], infer_datetime_format=True, errors='coerce')\n",
    "netflix['release_year'] = netflix['release_year'].astype('int16')\n",
    "netflix['rating'] = netflix['rating'].astype('str')\n",
    "netflix['listed_in'] = netflix['listed_in'].astype('str')\n",
    "netflix['description'] = netflix['description'].astype('str')\n",
    "netflix['score'] = netflix['score'].astype('int8')"
   ]
  },
  {
   "cell_type": "code",
   "execution_count": 118,
   "id": "6b888d68-d1c5-4e38-b9c0-db928faf4c35",
   "metadata": {},
   "outputs": [],
   "source": [
    "netflix['id'] = 'n' + netflix['show_id']"
   ]
  },
  {
   "cell_type": "code",
   "execution_count": 119,
   "id": "e427adea-3cec-4146-bbd6-af33b86816f7",
   "metadata": {},
   "outputs": [],
   "source": [
    "netflix['id'] = netflix['id'].astype('str')"
   ]
  },
  {
   "cell_type": "markdown",
   "id": "2326a2fb-6651-4f0f-b1ff-43087fa354cf",
   "metadata": {},
   "source": [
    "## Los valores nulos del campo rating deberán reemplazarse por el string “**`G`**” (corresponde al maturity rating: “general for all audiences”"
   ]
  },
  {
   "cell_type": "markdown",
   "id": "8f1157bf-8ab9-4f68-b40d-d7a0b94b6a65",
   "metadata": {},
   "source": [
    "# Tengo dudas con esta parte, porque este codigo no coge los NaN"
   ]
  },
  {
   "cell_type": "code",
   "execution_count": 120,
   "id": "db0476f1-072e-4b52-839e-d82de95b84d4",
   "metadata": {},
   "outputs": [],
   "source": [
    "amazon.fillna({'rating': '**g**'}, inplace=True)"
   ]
  },
  {
   "cell_type": "code",
   "execution_count": 121,
   "id": "c3aef421-46ef-4aa4-9567-32ff31374012",
   "metadata": {},
   "outputs": [],
   "source": [
    "disney.fillna({'rating': '**g**'}, inplace=True)"
   ]
  },
  {
   "cell_type": "code",
   "execution_count": 122,
   "id": "d81428da-f824-4225-86de-bbacb4126698",
   "metadata": {},
   "outputs": [],
   "source": [
    "hulu.fillna({'rating': '**g**'}, inplace=True)"
   ]
  },
  {
   "cell_type": "code",
   "execution_count": 123,
   "id": "8e4afd8d-c0d5-49da-8123-6c60dd78cb88",
   "metadata": {},
   "outputs": [],
   "source": [
    "netflix.fillna({'rating': '**g**'}, inplace=True)"
   ]
  },
  {
   "cell_type": "markdown",
   "id": "5671301c-4283-4453-9c8c-995e4fa61a04",
   "metadata": {},
   "source": [
    "##  De haber fechas, deberán tener el formato **`AAAA-mm-dd`**"
   ]
  },
  {
   "cell_type": "code",
   "execution_count": 124,
   "id": "10646f6b-d111-446d-99df-76f3abfa9bd6",
   "metadata": {},
   "outputs": [],
   "source": [
    "amazon['date_added'] = pd.to_datetime(amazon['date_added'], infer_datetime_format=True, errors='coerce')"
   ]
  },
  {
   "cell_type": "code",
   "execution_count": 125,
   "id": "51165b0c-97a1-422a-91e0-8583de62fb32",
   "metadata": {},
   "outputs": [],
   "source": [
    "disney['date_added'] = pd.to_datetime(disney['date_added'], infer_datetime_format=True, errors='coerce')"
   ]
  },
  {
   "cell_type": "code",
   "execution_count": 126,
   "id": "9474fe4c-ff8c-4408-b200-5cfdb4f54c80",
   "metadata": {},
   "outputs": [],
   "source": [
    "hulu['date_added'] = pd.to_datetime(hulu['date_added'], infer_datetime_format=True, errors='coerce')"
   ]
  },
  {
   "cell_type": "code",
   "execution_count": 127,
   "id": "c41ff720-1389-4894-9bd3-362acd4fce2b",
   "metadata": {},
   "outputs": [],
   "source": [
    "netflix['date_added'] = pd.to_datetime(netflix['date_added'], infer_datetime_format=True, errors='coerce')"
   ]
  },
  {
   "cell_type": "markdown",
   "id": "089e6468",
   "metadata": {},
   "source": [
    "# ***CAMBIAR `SEASONS` A `SEASON` ANTES DE OBTENER EL TIEMPO***"
   ]
  },
  {
   "cell_type": "markdown",
   "id": "cb17daea-a660-428b-8590-7969ffe5c0a4",
   "metadata": {},
   "source": [
    "## El campo ***duration*** debe convertirse en dos campos: **`duration_int`** y **`duration_type`**. El primero será un integer y el segundo un string indicando la unidad de medición de duración: min (minutos) o season (temporadas)"
   ]
  },
  {
   "cell_type": "code",
   "execution_count": 128,
   "id": "1c680e41-904e-467b-a321-921f2b486ff0",
   "metadata": {},
   "outputs": [],
   "source": [
    "amazon['duration'] = amazon['duration'].str.replace('Seasons','Season')\n",
    "amazon[['duration_int', 'duration_type']] = amazon['duration'].str.split(' ', n=-1, expand=True, regex=None)\n",
    "#amazon['duration_int'] = amazon['duration_int'].astype('int16')"
   ]
  },
  {
   "cell_type": "code",
   "execution_count": 129,
   "id": "2eb2e228-9a64-45b9-87cc-22179b1e1e41",
   "metadata": {},
   "outputs": [],
   "source": [
    "disney['duration'] = disney['duration'].str.replace('Seasons','Season')\n",
    "disney[['duration_int', 'duration_type']] = disney['duration'].str.split(' ', n=-1, expand=True, regex=None)\n",
    "#disney['duration_int'] = disney['duration_int'].astype('int16')"
   ]
  },
  {
   "cell_type": "code",
   "execution_count": 130,
   "id": "bbcd4a62-242c-4d08-a4bd-57bc9cf4dc1c",
   "metadata": {},
   "outputs": [],
   "source": [
    "hulu['duration'] = hulu['duration'].str.replace('Seasons','Season')\n",
    "hulu[['duration_int', 'duration_type']] = hulu['duration'].str.split(' ', n=-1, expand=True, regex=None)\n",
    "#hulu['duration_int'] = hulu['duration_int'].astype('int16')"
   ]
  },
  {
   "cell_type": "code",
   "execution_count": 131,
   "id": "d87479d1-b37a-45ce-a729-aa6d237d047e",
   "metadata": {},
   "outputs": [],
   "source": [
    "netflix['duration'] = netflix['duration'].str.replace('Seasons','Season')\n",
    "netflix[['duration_int', 'duration_type']] = netflix['duration'].str.split(' ', n=-1, expand=True, regex=None)\n",
    "#netflix['duration_int'] = netflix['duration_int'].astype('int16')"
   ]
  },
  {
   "cell_type": "markdown",
   "id": "b0aa0180-1d50-4642-bad8-2ee05a89a5f0",
   "metadata": {},
   "source": [
    "## Los campos de texto deberán estar en **minúsculas**, sin excepciones"
   ]
  },
  {
   "cell_type": "code",
   "execution_count": 132,
   "id": "b2b7acbc",
   "metadata": {},
   "outputs": [],
   "source": [
    "# amazon\n",
    "amazon = amazon.apply(lambda x: x.astype(str).str.lower())\n",
    "# disney\n",
    "disney = disney.apply(lambda x: x.astype(str).str.lower())\n",
    "# hulu\n",
    "hulu = hulu.apply(lambda x: x.astype(str).str.lower())\n",
    "# netflix\n",
    "netflix = netflix.apply(lambda x: x.astype(str).str.lower())"
   ]
  },
  {
   "cell_type": "code",
   "execution_count": 133,
   "id": "f7a801b1-b276-42ba-8483-624bdffc2f99",
   "metadata": {},
   "outputs": [],
   "source": [
    "# Escribir nuevos CSVs\n",
    "amazon.to_csv(\"DatasetsLimpios/ama.csv\", index= False)\n",
    "disney.to_csv(\"DatasetsLimpios/dis.csv\", index= False)\n",
    "hulu.to_csv(\"DatasetsLimpios/hul.csv\", index= False)\n",
    "netflix.to_csv(\"DatasetsLimpios/net.csv\", index= False)"
   ]
  },
  {
   "cell_type": "code",
   "execution_count": 134,
   "id": "137c98dc",
   "metadata": {},
   "outputs": [],
   "source": [
    "#Unir dataframes y guardar archivo\n",
    "dfMerge = pd.concat([amazon, disney, hulu, netflix])\n",
    "dfMerge.to_csv(\"data2.csv\", index= False)"
   ]
  },
  {
   "cell_type": "code",
   "execution_count": 135,
   "id": "2d640e33",
   "metadata": {},
   "outputs": [
    {
     "name": "stdout",
     "output_type": "stream",
     "text": [
      "  show_id   type                 title        director  \\\n",
      "0      s1  movie   the grand seduction    don mckellar   \n",
      "1      s2  movie  take care good night    girish joshi   \n",
      "2      s3  movie  secrets of deception     josh webber   \n",
      "3      s4  movie    pink: staying true  sonia anderson   \n",
      "4      s5  movie         monster maker    giles foster   \n",
      "\n",
      "                                                cast         country  \\\n",
      "0     brendan gleeson, taylor kitsch, gordon pinsent          canada   \n",
      "1   mahesh manjrekar, abhay mahajan, sachin khedekar           india   \n",
      "2  tom sizemore, lorenzo lamas, robert lasardo, r...   united states   \n",
      "3  interviews with: pink, adele, beyoncé, britney...   united states   \n",
      "4  harry dean stanton, kieran o'brien, george cos...  united kingdom   \n",
      "\n",
      "   date_added release_year rating duration                listed_in  \\\n",
      "0  2021-03-30         2014    nan  113 min            comedy, drama   \n",
      "1  2021-03-30         2018    13+  110 min     drama, international   \n",
      "2  2021-03-30         2017    nan   74 min  action, drama, suspense   \n",
      "3  2021-03-30         2014    nan   69 min              documentary   \n",
      "4  2021-03-30         1989    nan   45 min           drama, fantasy   \n",
      "\n",
      "                                         description score   id duration_int  \\\n",
      "0  a small fishing village must procure a local d...    99  as1          113   \n",
      "1  a metro family decides to fight a cyber crimin...    37  as2          110   \n",
      "2  after a man discovers his wife is cheating on ...    20  as3           74   \n",
      "3  pink breaks the mold once again, bringing her ...    27  as4           69   \n",
      "4  teenage matt banting wants to work with a famo...    75  as5           45   \n",
      "\n",
      "  duration_type  \n",
      "0           min  \n",
      "1           min  \n",
      "2           min  \n",
      "3           min  \n",
      "4           min  \n"
     ]
    }
   ],
   "source": [
    "print(dfMerge.head())"
   ]
  }
 ],
 "metadata": {
  "kernelspec": {
   "display_name": "Python 3.10.4 64-bit",
   "language": "python",
   "name": "python3"
  },
  "language_info": {
   "codemirror_mode": {
    "name": "ipython",
    "version": 3
   },
   "file_extension": ".py",
   "mimetype": "text/x-python",
   "name": "python",
   "nbconvert_exporter": "python",
   "pygments_lexer": "ipython3",
   "version": "3.10.4"
  },
  "vscode": {
   "interpreter": {
    "hash": "012f29fa124df80e053fa08be2a3f0c6744604e00976ac4c44ee25b4dd9797b6"
   }
  }
 },
 "nbformat": 4,
 "nbformat_minor": 5
}
